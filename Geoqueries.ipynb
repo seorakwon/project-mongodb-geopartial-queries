{
 "cells": [
  {
   "cell_type": "code",
   "execution_count": 1,
   "metadata": {},
   "outputs": [],
   "source": [
    "from pymongo import MongoClient\n",
    "import pandas as pd"
   ]
  },
  {
   "cell_type": "code",
   "execution_count": 2,
   "metadata": {},
   "outputs": [],
   "source": [
    "def connectCollection(database, collection):\n",
    "    client = MongoClient()\n",
    "    db = client[database]\n",
    "    coll = db[collection]\n",
    "    return db, coll"
   ]
  },
  {
   "cell_type": "code",
   "execution_count": 3,
   "metadata": {},
   "outputs": [
    {
     "name": "stdout",
     "output_type": "stream",
     "text": [
      "Collection(Database(MongoClient(host=['localhost:27017'], document_class=dict, tz_aware=False, connect=True), 'companies'), 'starbucks1.json')\n"
     ]
    }
   ],
   "source": [
    "db, coll = connectCollection('companies','starbucks1')\n",
    "db1, coll1 = connectCollection('companies', 'vegan1')\n",
    "print(coll.json)\n",
    "\n"
   ]
  },
  {
   "cell_type": "code",
   "execution_count": null,
   "metadata": {},
   "outputs": [],
   "source": []
  },
  {
   "cell_type": "code",
   "execution_count": 7,
   "metadata": {},
   "outputs": [
    {
     "data": {
      "text/plain": [
       "[{'_id': ObjectId('5dd66bc15bc9b0ee2178b7a4'),\n",
       "  'name': 'Starbucks',\n",
       "  'categories': 'starbucks-new-york-217',\n",
       "  'city': 'New York',\n",
       "  'geolocation': {'type': 'Point', 'coordinates': [-74.004971, 40.707122]}},\n",
       " {'_id': ObjectId('5dd66bc15bc9b0ee2178b7a5'),\n",
       "  'name': 'Starbucks',\n",
       "  'categories': 'starbucks-new-york-346',\n",
       "  'city': 'New York',\n",
       "  'geolocation': {'type': 'Point', 'coordinates': [-74.008696, 40.706155]}},\n",
       " {'_id': ObjectId('5dd66bc15bc9b0ee2178b7a6'),\n",
       "  'name': 'Starbucks',\n",
       "  'categories': 'starbucks-brooklyn-21',\n",
       "  'city': 'Brooklyn',\n",
       "  'geolocation': {'type': 'Point',\n",
       "   'coordinates': [-73.9908062948, 40.702668]}},\n",
       " {'_id': ObjectId('5dd66bc15bc9b0ee2178b7a7'),\n",
       "  'name': 'Starbucks',\n",
       "  'categories': 'starbucks-new-york-506',\n",
       "  'city': 'New York',\n",
       "  'geolocation': {'type': 'Point', 'coordinates': [-74.009001, 40.704653]}},\n",
       " {'_id': ObjectId('5dd66bc15bc9b0ee2178b7a8'),\n",
       "  'name': 'Starbucks',\n",
       "  'categories': 'starbucks-new-york-214',\n",
       "  'city': 'New York',\n",
       "  'geolocation': {'type': 'Point', 'coordinates': [-74.00799, 40.71018]}},\n",
       " {'_id': ObjectId('5dd66bc15bc9b0ee2178b7a9'),\n",
       "  'name': 'Starbucks',\n",
       "  'categories': 'starbucks-new-york-395',\n",
       "  'city': 'New York',\n",
       "  'geolocation': {'type': 'Point',\n",
       "   'coordinates': [-74.0067300015, 40.711619]}},\n",
       " {'_id': ObjectId('5dd66bc15bc9b0ee2178b7aa'),\n",
       "  'name': 'Starbucks',\n",
       "  'categories': 'starbucks-new-york-477',\n",
       "  'city': 'New York',\n",
       "  'geolocation': {'type': 'Point', 'coordinates': [-74.008533, 40.710792]}},\n",
       " {'_id': ObjectId('5dd66bc15bc9b0ee2178b7ab'),\n",
       "  'name': 'Starbucks',\n",
       "  'categories': 'starbucks-new-york-229',\n",
       "  'city': 'New York',\n",
       "  'geolocation': {'type': 'Point', 'coordinates': [-74.003125, 40.715754]}},\n",
       " {'_id': ObjectId('5dd66bc15bc9b0ee2178b7ac'),\n",
       "  'name': 'Starbucks',\n",
       "  'categories': 'starbucks-new-york-567',\n",
       "  'city': 'New York',\n",
       "  'geolocation': {'type': 'Point', 'coordinates': [-74.006685, 40.706487]}},\n",
       " {'_id': ObjectId('5dd66bc15bc9b0ee2178b7ad'),\n",
       "  'name': 'Starbucks',\n",
       "  'categories': 'starbucks-new-york-264',\n",
       "  'city': 'New York',\n",
       "  'geolocation': {'type': 'Point', 'coordinates': [-74.008202, 40.712214]}},\n",
       " {'_id': ObjectId('5dd66bc15bc9b0ee2178b7ae'),\n",
       "  'name': 'Starbucks',\n",
       "  'categories': 'starbucks-brooklyn-6',\n",
       "  'city': 'Brooklyn',\n",
       "  'geolocation': {'type': 'Point', 'coordinates': [-73.9867893, 40.694047]}},\n",
       " {'_id': ObjectId('5dd66bc15bc9b0ee2178b7af'),\n",
       "  'name': 'Starbucks',\n",
       "  'categories': 'starbucks-new-york-290',\n",
       "  'city': 'New York',\n",
       "  'geolocation': {'type': 'Point', 'coordinates': [-74.007159, 40.7047907]}},\n",
       " {'_id': ObjectId('5dd66bc15bc9b0ee2178b7b0'),\n",
       "  'name': 'Starbucks',\n",
       "  'categories': 'starbucks-new-york-404',\n",
       "  'city': 'New York',\n",
       "  'geolocation': {'type': 'Point', 'coordinates': [-74.009313, 40.708771]}},\n",
       " {'_id': ObjectId('5dd66bc15bc9b0ee2178b7b1'),\n",
       "  'name': 'Starbucks',\n",
       "  'categories': 'starbucks-brooklyn-78',\n",
       "  'city': 'Brooklyn',\n",
       "  'geolocation': {'type': 'Point', 'coordinates': [-73.993666, 40.702818]}},\n",
       " {'_id': ObjectId('5dd66bc15bc9b0ee2178b7b2'),\n",
       "  'name': 'Starbucks',\n",
       "  'categories': 'starbucks-new-york-381',\n",
       "  'city': 'New York',\n",
       "  'geolocation': {'type': 'Point', 'coordinates': [-74.007387, 40.708413]}},\n",
       " {'_id': ObjectId('5dd66bc15bc9b0ee2178b7b3'),\n",
       "  'name': 'Starbucks',\n",
       "  'categories': 'starbucks-new-york-436',\n",
       "  'city': 'New York',\n",
       "  'geolocation': {'type': 'Point', 'coordinates': [-74.010976, 40.707437]}},\n",
       " {'_id': ObjectId('5dd66bc15bc9b0ee2178b7b4'),\n",
       "  'name': 'Starbucks',\n",
       "  'categories': 'starbucks-new-york-524',\n",
       "  'city': 'New York',\n",
       "  'geolocation': {'type': 'Point', 'coordinates': [-74.000916, 40.711018]}},\n",
       " {'_id': ObjectId('5dd66bc15bc9b0ee2178b7b5'),\n",
       "  'name': 'Starbucks',\n",
       "  'categories': 'starbucks-new-york-345',\n",
       "  'city': 'New York',\n",
       "  'geolocation': {'type': 'Point', 'coordinates': [-74.010363, 40.71091]}},\n",
       " {'_id': ObjectId('5dd66bc15bc9b0ee2178b7b6'),\n",
       "  'name': 'Starbucks',\n",
       "  'categories': 'starbucks-new-york-278',\n",
       "  'city': 'New York',\n",
       "  'geolocation': {'type': 'Point', 'coordinates': [-73.999961, 40.718252]}},\n",
       " {'_id': ObjectId('5dd66bc15bc9b0ee2178b7b7'),\n",
       "  'name': 'Starbucks',\n",
       "  'categories': 'starbucks-new-york-131',\n",
       "  'city': 'New York',\n",
       "  'geolocation': {'type': 'Point', 'coordinates': [-74.005956, 40.714843]}},\n",
       " {'_id': ObjectId('5dd66bc15bc9b0ee2178b7b8'),\n",
       "  'name': 'Starbucks',\n",
       "  'categories': 'starbucks-brooklyn-17',\n",
       "  'city': 'Brooklyn',\n",
       "  'geolocation': {'type': 'Point', 'coordinates': [-73.993978, 40.694582]}},\n",
       " {'_id': ObjectId('5dd66bc15bc9b0ee2178b7b9'),\n",
       "  'name': 'Starbucks',\n",
       "  'categories': 'starbucks-brooklyn-40',\n",
       "  'city': 'Brooklyn',\n",
       "  'geolocation': {'type': 'Point', 'coordinates': [-73.982911, 40.694975]}},\n",
       " {'_id': ObjectId('5dd66bc15bc9b0ee2178b7ba'),\n",
       "  'name': 'Starbucks',\n",
       "  'categories': 'starbucks-brooklyn-14',\n",
       "  'city': 'Brooklyn',\n",
       "  'geolocation': {'type': 'Point', 'coordinates': [-73.991201, 40.692464]}},\n",
       " {'_id': ObjectId('5dd66bc15bc9b0ee2178b7bb'),\n",
       "  'name': 'Starbucks',\n",
       "  'categories': 'starbucks-new-york-295',\n",
       "  'city': 'New York',\n",
       "  'geolocation': {'type': 'Point', 'coordinates': [-74.011055, 40.708758]}},\n",
       " {'_id': ObjectId('5dd66bc15bc9b0ee2178b7bc'),\n",
       "  'name': 'Starbucks',\n",
       "  'categories': 'starbucks-new-york-143',\n",
       "  'city': 'New York',\n",
       "  'geolocation': {'type': 'Point', 'coordinates': [-74.01133, 40.705162]}},\n",
       " {'_id': ObjectId('5dd66bc15bc9b0ee2178b7bd'),\n",
       "  'name': 'Starbucks',\n",
       "  'categories': 'starbucks-new-york-128',\n",
       "  'city': 'New York',\n",
       "  'geolocation': {'type': 'Point', 'coordinates': [-74.009077, 40.713782]}},\n",
       " {'_id': ObjectId('5dd66bc15bc9b0ee2178b7be'),\n",
       "  'name': 'Starbucks',\n",
       "  'categories': 'starbucks-new-york-511',\n",
       "  'city': 'New York',\n",
       "  'geolocation': {'type': 'Point', 'coordinates': [-74.01087, 40.712117]}},\n",
       " {'_id': ObjectId('5dd66bc15bc9b0ee2178b7bf'),\n",
       "  'name': 'Starbucks',\n",
       "  'categories': 'starbucks-new-york-434',\n",
       "  'city': 'New York',\n",
       "  'geolocation': {'type': 'Point', 'coordinates': [-74.012051, 40.702149]}},\n",
       " {'_id': ObjectId('5dd66bc15bc9b0ee2178b7c0'),\n",
       "  'name': 'Starbucks',\n",
       "  'categories': 'starbucks-brooklyn-32',\n",
       "  'city': 'Brooklyn',\n",
       "  'geolocation': {'type': 'Point', 'coordinates': [-73.988548, 40.691795]}},\n",
       " {'_id': ObjectId('5dd66bc15bc9b0ee2178b7c1'),\n",
       "  'name': 'Starbucks',\n",
       "  'categories': 'starbucks-new-york-428',\n",
       "  'city': 'New York',\n",
       "  'geolocation': {'type': 'Point', 'coordinates': [-73.989977, 40.7193246]}},\n",
       " {'_id': ObjectId('5dd66bc15bc9b0ee2178b7c2'),\n",
       "  'name': 'Starbucks',\n",
       "  'categories': 'starbucks-new-york-537',\n",
       "  'city': 'New York',\n",
       "  'geolocation': {'type': 'Point', 'coordinates': [-73.99913, 40.719757]}},\n",
       " {'_id': ObjectId('5dd66bc15bc9b0ee2178b7c3'),\n",
       "  'name': 'Starbucks',\n",
       "  'categories': 'starbucks-new-york-574',\n",
       "  'city': 'New York',\n",
       "  'geolocation': {'type': 'Point', 'coordinates': [-74.011793, 40.710372]}},\n",
       " {'_id': ObjectId('5dd66bc15bc9b0ee2178b7c4'),\n",
       "  'name': 'Starbucks',\n",
       "  'categories': 'starbucks-new-york-215',\n",
       "  'city': 'New York',\n",
       "  'geolocation': {'type': 'Point', 'coordinates': [-74.002524, 40.718887]}},\n",
       " {'_id': ObjectId('5dd66bc15bc9b0ee2178b7c5'),\n",
       "  'name': 'Starbucks',\n",
       "  'categories': 'starbucks-new-york-380',\n",
       "  'city': 'New York',\n",
       "  'geolocation': {'type': 'Point', 'coordinates': [-74.009003, 40.715532]}},\n",
       " {'_id': ObjectId('5dd66bc15bc9b0ee2178b7c6'),\n",
       "  'name': 'Starbucks',\n",
       "  'categories': 'starbucks-new-york-387',\n",
       "  'city': 'New York',\n",
       "  'geolocation': {'type': 'Point',\n",
       "   'coordinates': [-74.004979, 40.7198874398]}},\n",
       " {'_id': ObjectId('5dd66bc15bc9b0ee2178b7c7'),\n",
       "  'name': 'Starbucks',\n",
       "  'categories': 'starbucks-brooklyn-76',\n",
       "  'city': 'Brooklyn',\n",
       "  'geolocation': {'type': 'Point',\n",
       "   'coordinates': [-73.98632603, 40.69074857]}},\n",
       " {'_id': ObjectId('5dd66bc15bc9b0ee2178b7c8'),\n",
       "  'name': 'Starbucks',\n",
       "  'categories': 'starbucks-brooklyn-73',\n",
       "  'city': 'Brooklyn',\n",
       "  'geolocation': {'type': 'Point', 'coordinates': [-73.98254, 40.691174]}},\n",
       " {'_id': ObjectId('5dd66bc15bc9b0ee2178b7c9'),\n",
       "  'name': 'Starbucks',\n",
       "  'categories': 'starbucks-brooklyn-50',\n",
       "  'city': 'Brooklyn',\n",
       "  'geolocation': {'type': 'Point', 'coordinates': [-73.980887, 40.689304]}},\n",
       " {'_id': ObjectId('5dd66bc15bc9b0ee2178b7ca'),\n",
       "  'name': 'Starbucks',\n",
       "  'categories': 'starbucks-new-york-147',\n",
       "  'city': 'New York',\n",
       "  'geolocation': {'type': 'Point', 'coordinates': [-74.01116, 40.72068]}},\n",
       " {'_id': ObjectId('5dd66bc15bc9b0ee2178b7cb'),\n",
       "  'name': 'Starbucks',\n",
       "  'categories': 'starbucks-brooklyn-16',\n",
       "  'city': 'Brooklyn',\n",
       "  'geolocation': {'type': 'Point', 'coordinates': [-73.992748, 40.688556]}},\n",
       " {'_id': ObjectId('5dd66bc15bc9b0ee2178b7cc'),\n",
       "  'name': 'Starbucks',\n",
       "  'categories': 'starbucks-new-york-553',\n",
       "  'city': 'New York',\n",
       "  'geolocation': {'type': 'Point', 'coordinates': [-73.997942, 40.722553]}},\n",
       " {'_id': ObjectId('5dd66bc15bc9b0ee2178b7cd'),\n",
       "  'name': 'Starbucks',\n",
       "  'categories': 'starbucks-new-york-294',\n",
       "  'city': 'New York',\n",
       "  'geolocation': {'type': 'Point', 'coordinates': [-74.007305, 40.718247]}},\n",
       " {'_id': ObjectId('5dd66bc15bc9b0ee2178b7ce'),\n",
       "  'name': 'Starbucks',\n",
       "  'categories': 'starbucks-brooklyn-77',\n",
       "  'city': 'Brooklyn',\n",
       "  'geolocation': {'type': 'Point', 'coordinates': [-73.98563, 40.68921]}},\n",
       " {'_id': ObjectId('5dd66bc15bc9b0ee2178b7cf'),\n",
       "  'name': 'Starbucks',\n",
       "  'categories': 'starbucks-brooklyn-69',\n",
       "  'city': 'Brooklyn',\n",
       "  'geolocation': {'type': 'Point', 'coordinates': [-73.984355, 40.691567]}}]"
      ]
     },
     "execution_count": 7,
     "metadata": {},
     "output_type": "execute_result"
    }
   ],
   "source": [
    "starbucksNY = list(coll.find({\"name\":{\"$exists\":True}}))\n",
    "\n",
    "starbucksNY"
   ]
  },
  {
   "cell_type": "code",
   "execution_count": 8,
   "metadata": {},
   "outputs": [],
   "source": [
    "def getClose(lat, long,radius = 1000):\n",
    "    db, coll = connectCollection('companies', 'starbucks')\n",
    "    results = coll.find({\n",
    "        \"geolocation\":{\n",
    "            \"$near\":{\n",
    "                \"$geometry\":{\n",
    "                    \"type\":\"Point\",\n",
    "                    \"coordinates\":[lat,long]\n",
    "                },\n",
    "                \"$maxDistance\": 1000,\n",
    "            }\n",
    "        }\n",
    "    })\n",
    "    return list(results)\n",
    "\n",
    "# no funciona why"
   ]
  },
  {
   "cell_type": "code",
   "execution_count": 9,
   "metadata": {},
   "outputs": [
    {
     "data": {
      "text/plain": [
       "[{'_id': ObjectId('5dd66bc15bc9b0ee2178b7b3'),\n",
       "  'name': 'Starbucks',\n",
       "  'categories': 'starbucks-new-york-436',\n",
       "  'city': 'New York',\n",
       "  'geolocation': {'type': 'Point', 'coordinates': [-74.010976, 40.707437]}},\n",
       " {'_id': ObjectId('5dd66bc15bc9b0ee2178b7bb'),\n",
       "  'name': 'Starbucks',\n",
       "  'categories': 'starbucks-new-york-295',\n",
       "  'city': 'New York',\n",
       "  'geolocation': {'type': 'Point', 'coordinates': [-74.011055, 40.708758]}},\n",
       " {'_id': ObjectId('5dd66bc15bc9b0ee2178b7c3'),\n",
       "  'name': 'Starbucks',\n",
       "  'categories': 'starbucks-new-york-574',\n",
       "  'city': 'New York',\n",
       "  'geolocation': {'type': 'Point', 'coordinates': [-74.011793, 40.710372]}},\n",
       " {'_id': ObjectId('5dd66bc15bc9b0ee2178b7bc'),\n",
       "  'name': 'Starbucks',\n",
       "  'categories': 'starbucks-new-york-143',\n",
       "  'city': 'New York',\n",
       "  'geolocation': {'type': 'Point', 'coordinates': [-74.01133, 40.705162]}},\n",
       " {'_id': ObjectId('5dd66bc15bc9b0ee2178b7b0'),\n",
       "  'name': 'Starbucks',\n",
       "  'categories': 'starbucks-new-york-404',\n",
       "  'city': 'New York',\n",
       "  'geolocation': {'type': 'Point', 'coordinates': [-74.009313, 40.708771]}},\n",
       " {'_id': ObjectId('5dd66bc15bc9b0ee2178b7b5'),\n",
       "  'name': 'Starbucks',\n",
       "  'categories': 'starbucks-new-york-345',\n",
       "  'city': 'New York',\n",
       "  'geolocation': {'type': 'Point', 'coordinates': [-74.010363, 40.71091]}},\n",
       " {'_id': ObjectId('5dd66bc15bc9b0ee2178b7a5'),\n",
       "  'name': 'Starbucks',\n",
       "  'categories': 'starbucks-new-york-346',\n",
       "  'city': 'New York',\n",
       "  'geolocation': {'type': 'Point', 'coordinates': [-74.008696, 40.706155]}},\n",
       " {'_id': ObjectId('5dd66bc15bc9b0ee2178b7a7'),\n",
       "  'name': 'Starbucks',\n",
       "  'categories': 'starbucks-new-york-506',\n",
       "  'city': 'New York',\n",
       "  'geolocation': {'type': 'Point', 'coordinates': [-74.009001, 40.704653]}},\n",
       " {'_id': ObjectId('5dd66bc15bc9b0ee2178b7be'),\n",
       "  'name': 'Starbucks',\n",
       "  'categories': 'starbucks-new-york-511',\n",
       "  'city': 'New York',\n",
       "  'geolocation': {'type': 'Point', 'coordinates': [-74.01087, 40.712117]}},\n",
       " {'_id': ObjectId('5dd66bc15bc9b0ee2178b7b2'),\n",
       "  'name': 'Starbucks',\n",
       "  'categories': 'starbucks-new-york-381',\n",
       "  'city': 'New York',\n",
       "  'geolocation': {'type': 'Point', 'coordinates': [-74.007387, 40.708413]}},\n",
       " {'_id': ObjectId('5dd66bc15bc9b0ee2178b7aa'),\n",
       "  'name': 'Starbucks',\n",
       "  'categories': 'starbucks-new-york-477',\n",
       "  'city': 'New York',\n",
       "  'geolocation': {'type': 'Point', 'coordinates': [-74.008533, 40.710792]}},\n",
       " {'_id': ObjectId('5dd66bc15bc9b0ee2178b7a8'),\n",
       "  'name': 'Starbucks',\n",
       "  'categories': 'starbucks-new-york-214',\n",
       "  'city': 'New York',\n",
       "  'geolocation': {'type': 'Point', 'coordinates': [-74.00799, 40.71018]}},\n",
       " {'_id': ObjectId('5dd66bc15bc9b0ee2178b7ac'),\n",
       "  'name': 'Starbucks',\n",
       "  'categories': 'starbucks-new-york-567',\n",
       "  'city': 'New York',\n",
       "  'geolocation': {'type': 'Point', 'coordinates': [-74.006685, 40.706487]}},\n",
       " {'_id': ObjectId('5dd66bc15bc9b0ee2178b7af'),\n",
       "  'name': 'Starbucks',\n",
       "  'categories': 'starbucks-new-york-290',\n",
       "  'city': 'New York',\n",
       "  'geolocation': {'type': 'Point', 'coordinates': [-74.007159, 40.7047907]}},\n",
       " {'_id': ObjectId('5dd66bc15bc9b0ee2178b7bf'),\n",
       "  'name': 'Starbucks',\n",
       "  'categories': 'starbucks-new-york-434',\n",
       "  'city': 'New York',\n",
       "  'geolocation': {'type': 'Point', 'coordinates': [-74.012051, 40.702149]}},\n",
       " {'_id': ObjectId('5dd66bc15bc9b0ee2178b7ad'),\n",
       "  'name': 'Starbucks',\n",
       "  'categories': 'starbucks-new-york-264',\n",
       "  'city': 'New York',\n",
       "  'geolocation': {'type': 'Point', 'coordinates': [-74.008202, 40.712214]}},\n",
       " {'_id': ObjectId('5dd66bc15bc9b0ee2178b7a9'),\n",
       "  'name': 'Starbucks',\n",
       "  'categories': 'starbucks-new-york-395',\n",
       "  'city': 'New York',\n",
       "  'geolocation': {'type': 'Point',\n",
       "   'coordinates': [-74.0067300015, 40.711619]}},\n",
       " {'_id': ObjectId('5dd66bc15bc9b0ee2178b7a4'),\n",
       "  'name': 'Starbucks',\n",
       "  'categories': 'starbucks-new-york-217',\n",
       "  'city': 'New York',\n",
       "  'geolocation': {'type': 'Point', 'coordinates': [-74.004971, 40.707122]}},\n",
       " {'_id': ObjectId('5dd66bc15bc9b0ee2178b7bd'),\n",
       "  'name': 'Starbucks',\n",
       "  'categories': 'starbucks-new-york-128',\n",
       "  'city': 'New York',\n",
       "  'geolocation': {'type': 'Point', 'coordinates': [-74.009077, 40.713782]}},\n",
       " {'_id': ObjectId('5dd66bc15bc9b0ee2178b7c5'),\n",
       "  'name': 'Starbucks',\n",
       "  'categories': 'starbucks-new-york-380',\n",
       "  'city': 'New York',\n",
       "  'geolocation': {'type': 'Point', 'coordinates': [-74.009003, 40.715532]}}]"
      ]
     },
     "execution_count": 9,
     "metadata": {},
     "output_type": "execute_result"
    }
   ],
   "source": [
    "'''c1star = list(coll.find(\n",
    "        {\"geolocation\": \n",
    "         {\"$near\": \n",
    "          {\"$geometry\":\n",
    "           {'type': 'Point', 'coordinates': [-74.0136605,40.7078343]},\n",
    "           \"$maxDistance\": 1000\n",
    "            }\n",
    "        }\n",
    "    }))\n",
    "\n",
    "print(len(c1star))'''\n",
    "\n",
    "starbucks1 = getClose(-74.0136605,40.7078343)\n",
    "\n",
    "starbucks1"
   ]
  },
  {
   "cell_type": "code",
   "execution_count": 10,
   "metadata": {},
   "outputs": [
    {
     "ename": "NameError",
     "evalue": "name 'item' is not defined",
     "output_type": "error",
     "traceback": [
      "\u001b[0;31m---------------------------------------------------------------------------\u001b[0m",
      "\u001b[0;31mNameError\u001b[0m                                 Traceback (most recent call last)",
      "\u001b[0;32m<ipython-input-10-b37b2286ac42>\u001b[0m in \u001b[0;36m<module>\u001b[0;34m\u001b[0m\n\u001b[0;32m----> 1\u001b[0;31m \u001b[0mprint\u001b[0m\u001b[0;34m(\u001b[0m\u001b[0mitem\u001b[0m\u001b[0;34m)\u001b[0m\u001b[0;34m\u001b[0m\u001b[0;34m\u001b[0m\u001b[0m\n\u001b[0m",
      "\u001b[0;31mNameError\u001b[0m: name 'item' is not defined"
     ]
    }
   ],
   "source": [
    "    print(item)"
   ]
  },
  {
   "cell_type": "code",
   "execution_count": null,
   "metadata": {},
   "outputs": [],
   "source": []
  },
  {
   "cell_type": "code",
   "execution_count": null,
   "metadata": {},
   "outputs": [],
   "source": []
  },
  {
   "cell_type": "code",
   "execution_count": 11,
   "metadata": {},
   "outputs": [
    {
     "data": {
      "text/plain": [
       "'company1 = list(db.coll.find(\\n   {\\n     { \"$near\":\\n          {\\n            \"$geolocation\": {\"type\": \"Point\",  \"coordinates\": [ -74.0136605,40.7078343 ]},\\n            \"$maxDistance\": 1000\\n          }\\n       }\\n   }\\n))\\n\\ncompany1'"
      ]
     },
     "execution_count": 11,
     "metadata": {},
     "output_type": "execute_result"
    }
   ],
   "source": [
    "'''company1 = list(db.coll.find(\n",
    "   {\n",
    "     { \"$near\":\n",
    "          {\n",
    "            \"$geolocation\": {\"type\": \"Point\",  \"coordinates\": [ -74.0136605,40.7078343 ]},\n",
    "            \"$maxDistance\": 1000\n",
    "          }\n",
    "       }\n",
    "   }\n",
    "))\n",
    "\n",
    "company1'''\n",
    "\n",
    "#no funciona, cuando haya tiempo mirar"
   ]
  },
  {
   "cell_type": "code",
   "execution_count": null,
   "metadata": {},
   "outputs": [],
   "source": []
  },
  {
   "cell_type": "code",
   "execution_count": null,
   "metadata": {},
   "outputs": [],
   "source": []
  },
  {
   "cell_type": "code",
   "execution_count": 33,
   "metadata": {},
   "outputs": [
    {
     "ename": "SyntaxError",
     "evalue": "EOL while scanning string literal (<ipython-input-33-3735a16b3274>, line 14)",
     "output_type": "error",
     "traceback": [
      "\u001b[0;36m  File \u001b[0;32m\"<ipython-input-33-3735a16b3274>\"\u001b[0;36m, line \u001b[0;32m14\u001b[0m\n\u001b[0;31m    starbucks1''''\u001b[0m\n\u001b[0m                  \n^\u001b[0m\n\u001b[0;31mSyntaxError\u001b[0m\u001b[0;31m:\u001b[0m EOL while scanning string literal\n"
     ]
    }
   ],
   "source": [
    "''''starbucks1 = list(\n",
    "   {\n",
    "     \"location\":\n",
    "       { \"$near\" :\n",
    "          {\n",
    "            \"$geometry\": { \"type\": \"Point\",  \"coordinates\": [ -73.9667, 40.78 ] },\n",
    "            \"$minDistance\": 0,\n",
    "            \"$maxDistance\": 1000\n",
    "          }\n",
    "       }\n",
    "   }\n",
    ")\n",
    "\n",
    "starbucks1''''\n",
    "\n",
    "#chequear later"
   ]
  },
  {
   "cell_type": "code",
   "execution_count": 16,
   "metadata": {},
   "outputs": [],
   "source": [
    "def getClose(lat, long,radius = 1000):\n",
    "    db, coll = connectCollection('companies', 'starbucks1')\n",
    "    results = coll.find({\n",
    "        \"geolocation\":{\n",
    "            \"$near\":{\n",
    "                \"$geometry\":{\n",
    "                    \"type\":\"Point\",\n",
    "                    \"coordinates\":[lat,long]\n",
    "                },\n",
    "                \"$maxDistance\": 1000,\n",
    "            }\n",
    "        }\n",
    "    })\n",
    "    return list(results)\n",
    "\n"
   ]
  },
  {
   "cell_type": "code",
   "execution_count": 17,
   "metadata": {},
   "outputs": [],
   "source": [
    "def getClose2(lat, long,radius = 1000):\n",
    "    db, coll = connectCollection('companies', 'vegan1')\n",
    "    results = coll.find({\n",
    "        \"geolocation\":{\n",
    "            \"$near\":{\n",
    "                \"$geometry\":{\n",
    "                    \"type\":\"Point\",\n",
    "                    \"coordinates\":[lat,long]\n",
    "                },\n",
    "                \"$maxDistance\": 1000,\n",
    "            }\n",
    "        }\n",
    "    })\n",
    "    return list(results)\n",
    "\n",
    "\n"
   ]
  },
  {
   "cell_type": "code",
   "execution_count": 18,
   "metadata": {},
   "outputs": [
    {
     "name": "stdout",
     "output_type": "stream",
     "text": [
      "29\n"
     ]
    }
   ],
   "source": [
    "c1star = getClose(-74.011114,40.707954)\n",
    "print(len(c1star))"
   ]
  },
  {
   "cell_type": "code",
   "execution_count": 19,
   "metadata": {},
   "outputs": [
    {
     "name": "stdout",
     "output_type": "stream",
     "text": [
      "67\n"
     ]
    }
   ],
   "source": [
    "c1veg = getClose2(-74.011114,40.707954)\n",
    "print(len(c1veg))"
   ]
  },
  {
   "cell_type": "code",
   "execution_count": 20,
   "metadata": {
    "scrolled": true
   },
   "outputs": [
    {
     "name": "stdout",
     "output_type": "stream",
     "text": [
      "27\n"
     ]
    }
   ],
   "source": [
    "c2star = getClose(-74.0136605,40.7078343)\n",
    "print(len(c2star))"
   ]
  },
  {
   "cell_type": "code",
   "execution_count": 21,
   "metadata": {},
   "outputs": [
    {
     "name": "stdout",
     "output_type": "stream",
     "text": [
      "61\n"
     ]
    }
   ],
   "source": [
    "c2veg = getClose2(-74.0136605,40.7078343)\n",
    "print(len(c2veg))"
   ]
  },
  {
   "cell_type": "code",
   "execution_count": 24,
   "metadata": {},
   "outputs": [
    {
     "name": "stdout",
     "output_type": "stream",
     "text": [
      "17\n"
     ]
    }
   ],
   "source": [
    "c3star = getClose(-73.994797, 40.727216)\n",
    "print(len(c3star))"
   ]
  },
  {
   "cell_type": "code",
   "execution_count": 23,
   "metadata": {},
   "outputs": [
    {
     "name": "stdout",
     "output_type": "stream",
     "text": [
      "273\n"
     ]
    }
   ],
   "source": [
    "c3veg = getClose2(-73.994797, 40.727216)\n",
    "print(len(c3veg))"
   ]
  },
  {
   "cell_type": "code",
   "execution_count": 25,
   "metadata": {},
   "outputs": [
    {
     "name": "stdout",
     "output_type": "stream",
     "text": [
      "25\n"
     ]
    }
   ],
   "source": [
    "c4star = getClose(-73.990967, 40.73343)\n",
    "print(len(c4star))"
   ]
  },
  {
   "cell_type": "code",
   "execution_count": 27,
   "metadata": {},
   "outputs": [
    {
     "name": "stdout",
     "output_type": "stream",
     "text": [
      "204\n"
     ]
    }
   ],
   "source": [
    "c4veg = getClose2(-73.990967, 40.73343)\n",
    "print(len(c4veg))"
   ]
  },
  {
   "cell_type": "code",
   "execution_count": 28,
   "metadata": {},
   "outputs": [
    {
     "name": "stdout",
     "output_type": "stream",
     "text": [
      "43\n"
     ]
    }
   ],
   "source": [
    "    c5star = getClose(-73.987764, 40.744618)\n",
    "    print(len(c5star))\n"
   ]
  },
  {
   "cell_type": "code",
   "execution_count": 29,
   "metadata": {},
   "outputs": [
    {
     "name": "stdout",
     "output_type": "stream",
     "text": [
      "93\n"
     ]
    }
   ],
   "source": [
    "c5veg = getClose2(-73.987764, 40.744618)\n",
    "print(len(c5veg))\n"
   ]
  },
  {
   "cell_type": "code",
   "execution_count": 30,
   "metadata": {},
   "outputs": [
    {
     "name": "stdout",
     "output_type": "stream",
     "text": [
      "65\n"
     ]
    }
   ],
   "source": [
    "c6star = getClose(-73.985506, 40.757929)\n",
    "print(len(c6star))\n"
   ]
  },
  {
   "cell_type": "code",
   "execution_count": 31,
   "metadata": {},
   "outputs": [
    {
     "name": "stdout",
     "output_type": "stream",
     "text": [
      "4\n"
     ]
    }
   ],
   "source": [
    "c6veg = getClose2(-73.985506, 40.757929)\n",
    "print(len(c6veg))\n"
   ]
  },
  {
   "cell_type": "code",
   "execution_count": null,
   "metadata": {},
   "outputs": [],
   "source": []
  }
 ],
 "metadata": {
  "kernelspec": {
   "display_name": "Python 3",
   "language": "python",
   "name": "python3"
  },
  "language_info": {
   "codemirror_mode": {
    "name": "ipython",
    "version": 3
   },
   "file_extension": ".py",
   "mimetype": "text/x-python",
   "name": "python",
   "nbconvert_exporter": "python",
   "pygments_lexer": "ipython3",
   "version": "3.6.8"
  }
 },
 "nbformat": 4,
 "nbformat_minor": 2
}
