{
 "cells": [
  {
   "cell_type": "code",
   "execution_count": 2,
   "metadata": {},
   "outputs": [],
   "source": [
    "from pymongo import MongoClient\n",
    "# https://api.mongodb.com/python/current/tutorial.html"
   ]
  },
  {
   "cell_type": "code",
   "execution_count": 3,
   "metadata": {},
   "outputs": [],
   "source": [
    "client = MongoClient(\"mongodb://localhost:27017/\")"
   ]
  },
  {
   "cell_type": "code",
   "execution_count": 4,
   "metadata": {},
   "outputs": [],
   "source": [
    "db = client.datarest"
   ]
  },
  {
   "cell_type": "code",
   "execution_count": 15,
   "metadata": {},
   "outputs": [
    {
     "name": "stderr",
     "output_type": "stream",
     "text": [
      "IOPub data rate exceeded.\n",
      "The notebook server will temporarily stop sending output\n",
      "to the client in order to avoid crashing it.\n",
      "To change this limit, set the config variable\n",
      "`--NotebookApp.iopub_data_rate_limit`.\n",
      "\n",
      "Current values:\n",
      "NotebookApp.iopub_data_rate_limit=1000000.0 (bytes/sec)\n",
      "NotebookApp.rate_limit_window=3.0 (secs)\n",
      "\n"
     ]
    }
   ],
   "source": [
    "# all documents\n",
    "rest = list(db.restaurants.find()) \n",
    "print(rest)"
   ]
  },
  {
   "cell_type": "code",
   "execution_count": 26,
   "metadata": {},
   "outputs": [
    {
     "name": "stdout",
     "output_type": "stream",
     "text": [
      "{'_id': ObjectId('5dcc38fa4133b528b8d429e6'), 'address': {'building': '97-22', 'coord': [-73.8601152, 40.7311739], 'street': '63 Road', 'zipcode': '11374'}, 'borough': 'Queens', 'cuisine': 'Jewish/Kosher', 'grades': [{'date': datetime.datetime(2014, 11, 24, 0, 0), 'grade': 'Z', 'score': 20}, {'date': datetime.datetime(2013, 1, 17, 0, 0), 'grade': 'A', 'score': 13}, {'date': datetime.datetime(2012, 8, 2, 0, 0), 'grade': 'A', 'score': 13}, {'date': datetime.datetime(2011, 12, 15, 0, 0), 'grade': 'B', 'score': 25}], 'name': 'Tov Kosher Kitchen', 'restaurant_id': '40356068'}\n"
     ]
    }
   ],
   "source": [
    "# first match\n",
    "first_rest = db.restaurants.find_one()\n",
    "print(first_rest)"
   ]
  },
  {
   "cell_type": "code",
   "execution_count": 9,
   "metadata": {},
   "outputs": [
    {
     "name": "stdout",
     "output_type": "stream",
     "text": [
      "{'_id': ObjectId('5dcc38fa4133b528b8d429e9'), 'address': {'building': '469', 'coord': [-73.961704, 40.662942], 'street': 'Flatbush Avenue', 'zipcode': '11225'}, 'borough': 'Brooklyn', 'cuisine': 'Hamburgers', 'grades': [{'date': datetime.datetime(2014, 12, 30, 0, 0), 'grade': 'A', 'score': 8}, {'date': datetime.datetime(2014, 7, 1, 0, 0), 'grade': 'B', 'score': 23}, {'date': datetime.datetime(2013, 4, 30, 0, 0), 'grade': 'A', 'score': 12}, {'date': datetime.datetime(2012, 5, 8, 0, 0), 'grade': 'A', 'score': 12}], 'name': \"Wendy'S\", 'restaurant_id': '30112340', 'country': 'USA'}\n"
     ]
    }
   ],
   "source": [
    "# query\n",
    "wendys = list(db.restaurants.find({\"name\": \"Wendy'S\"}))\n",
    "print(wendys[0])"
   ]
  },
  {
   "cell_type": "code",
   "execution_count": 27,
   "metadata": {},
   "outputs": [
    {
     "name": "stdout",
     "output_type": "stream",
     "text": [
      "{'_id': ObjectId('5dcc38fa4133b528b8d429e9'), 'address': {'building': '469', 'coord': [-73.961704, 40.662942], 'street': 'Flatbush Avenue', 'zipcode': '11225'}, 'borough': 'Brooklyn', 'cuisine': 'Hamburgers', 'grades': [{'date': datetime.datetime(2014, 12, 30, 0, 0), 'grade': 'A', 'score': 8}, {'date': datetime.datetime(2014, 7, 1, 0, 0), 'grade': 'B', 'score': 23}, {'date': datetime.datetime(2013, 4, 30, 0, 0), 'grade': 'A', 'score': 12}, {'date': datetime.datetime(2012, 5, 8, 0, 0), 'grade': 'A', 'score': 12}], 'name': \"Wendy'S\", 'restaurant_id': '30112340', 'country': 'USA'}\n",
      "{'_id': ObjectId('5dcc38fa4133b528b8d429e9'), 'address': {'building': '469', 'coord': [-73.961704, 40.662942], 'street': 'Flatbush Avenue', 'zipcode': '11225'}, 'borough': 'Brooklyn', 'cuisine': 'Hamburgers', 'grades': [{'date': datetime.datetime(2014, 12, 30, 0, 0), 'grade': 'A', 'score': 8}, {'date': datetime.datetime(2014, 7, 1, 0, 0), 'grade': 'B', 'score': 23}, {'date': datetime.datetime(2013, 4, 30, 0, 0), 'grade': 'A', 'score': 12}, {'date': datetime.datetime(2012, 5, 8, 0, 0), 'grade': 'A', 'score': 12}], 'name': \"Wendy'S\", 'restaurant_id': '30112340', 'country': 'USA'}\n",
      "<pymongo.cursor.Cursor object at 0x106d675d0>\n",
      "<pymongo.cursor.Cursor object at 0x115f44710>\n"
     ]
    }
   ],
   "source": [
    "# returns documents\n",
    "first_wendys_find = db.restaurants.find({\"name\": \"Wendy'S\"})[0]\n",
    "first_wendys_find_one = db.restaurants.find_one({\"name\": \"Wendy'S\"})\n",
    "\n",
    "# returns cursor\n",
    "wendys = db.restaurants.find({\"name\": \"Wendy'S\"})\n",
    "five_wendys = db.restaurants.find({\"name\": \"Wendy'S\"})[0:5]\n",
    "\n",
    "print(first_wendys_find)\n",
    "print(first_wendys_find_one)\n",
    "print(wendys)\n",
    "print(five_wendys)\n"
   ]
  },
  {
   "cell_type": "code",
   "execution_count": 20,
   "metadata": {
    "scrolled": true
   },
   "outputs": [
    {
     "name": "stdout",
     "output_type": "stream",
     "text": [
      "_id: 5dcc38fa4133b528b8d429e6\n",
      "address: {'building': '97-22', 'coord': [-73.8601152, 40.7311739], 'street': '63 Road', 'zipcode': '11374'}\n",
      "borough: Queens\n",
      "cuisine: Jewish/Kosher\n",
      "grades: [{'date': datetime.datetime(2014, 11, 24, 0, 0), 'grade': 'Z', 'score': 20}, {'date': datetime.datetime(2013, 1, 17, 0, 0), 'grade': 'A', 'score': 13}, {'date': datetime.datetime(2012, 8, 2, 0, 0), 'grade': 'A', 'score': 13}, {'date': datetime.datetime(2011, 12, 15, 0, 0), 'grade': 'B', 'score': 25}]\n",
      "name: Tov Kosher Kitchen\n",
      "restaurant_id: 40356068\n"
     ]
    }
   ],
   "source": [
    "# access results\n",
    "for k,v in rest[0].items():\n",
    "    print(\"{}: {}\".format(k,v))"
   ]
  },
  {
   "cell_type": "code",
   "execution_count": 29,
   "metadata": {},
   "outputs": [
    {
     "data": {
      "text/plain": [
       "<pymongo.results.InsertManyResult at 0x106d30640>"
      ]
     },
     "execution_count": 29,
     "metadata": {},
     "output_type": "execute_result"
    }
   ],
   "source": [
    "# insert new documents to existing collection\n",
    "new_restaurants = [{\"name\": \"fran restaurant\", \"cuisine\": \"spanish\"}, {\"name\":\"bego restaurant\", \"cuisine\": \"african\"}]\n",
    "\n",
    "db.restaurants.insert_many(new_restaurants)"
   ]
  },
  {
   "cell_type": "code",
   "execution_count": 30,
   "metadata": {},
   "outputs": [
    {
     "data": {
      "text/plain": [
       "<pymongo.results.InsertManyResult at 0x105aae640>"
      ]
     },
     "execution_count": 30,
     "metadata": {},
     "output_type": "execute_result"
    }
   ],
   "source": [
    "# create new collection \n",
    "col = db[\"new_collection\"]\n",
    "# insert documents\n",
    "col.insert_many(new_restaurants)"
   ]
  },
  {
   "cell_type": "code",
   "execution_count": 8,
   "metadata": {},
   "outputs": [
    {
     "name": "stdout",
     "output_type": "stream",
     "text": [
      "82 documents updated.\n"
     ]
    }
   ],
   "source": [
    "# update/ add values to documents in query\n",
    "myquery = {\"name\": \"Wendy'S\"}\n",
    "newvalues = {\"$set\": {\"name\": \"Wendys\"}}\n",
    "\n",
    "x = db.restaurants.update_many(myquery, newvalues)\n",
    "\n",
    "print(x.modified_count, \"documents updated.\")\n"
   ]
  },
  {
   "cell_type": "code",
   "execution_count": null,
   "metadata": {},
   "outputs": [],
   "source": []
  }
 ],
 "metadata": {
  "kernelspec": {
   "display_name": "Python 3",
   "language": "python",
   "name": "python3"
  },
  "language_info": {
   "codemirror_mode": {
    "name": "ipython",
    "version": 3
   },
   "file_extension": ".py",
   "mimetype": "text/x-python",
   "name": "python",
   "nbconvert_exporter": "python",
   "pygments_lexer": "ipython3",
   "version": "3.6.8"
  }
 },
 "nbformat": 4,
 "nbformat_minor": 2
}
