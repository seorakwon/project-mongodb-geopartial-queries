{
 "cells": [
  {
   "cell_type": "code",
   "execution_count": 30,
   "metadata": {},
   "outputs": [
    {
     "data": {
      "text/plain": [
       "True"
      ]
     },
     "execution_count": 30,
     "metadata": {},
     "output_type": "execute_result"
    }
   ],
   "source": [
    "import json\n",
    "import requests\n",
    "import sys\n",
    "import os\n",
    "from dotenv import load_dotenv\n",
    "load_dotenv()"
   ]
  },
  {
   "cell_type": "code",
   "execution_count": 31,
   "metadata": {},
   "outputs": [],
   "source": [
    "#CLIENT_ID = '2RIV2S3AUAYLH4YEI1ES3G2OM5LPEVPOWVWQZJHW1V1BPDMC' # your Foursquare ID\n",
    "#CLIENT_SECRET = 'F5MGL1ZLIXUQL01M0XHV5PC4LVUAMI2RYOMMHOGDYWX0RRN' # your Foursquare Secret\n",
    "#VERSION = '20180604'\n",
    "#LIMIT = 100"
   ]
  },
  {
   "cell_type": "code",
   "execution_count": 33,
   "metadata": {},
   "outputs": [],
   "source": [
    "def requestfoursquare(query):\n",
    "    url = 'https://api.foursquare.com/v2/venues/explore'\n",
    "    params = dict(\n",
    "        client_id = os.getenv(\"CLIENT_ID\"),\n",
    "        client_secret = os.getenv(\"CLIENT_SECRET\"),\n",
    "        v = '20191023',\n",
    "        ll = '37.773972,-122.431297',\n",
    "        query = query,\n",
    "        limit = 200,\n",
    "        radius = \"1000\"\n",
    "    )\n",
    "    resp = requests.get(url=url, params=params)\n",
    "    data = json.loads(resp.text)\n",
    "    return data\n",
    "\n"
   ]
  },
  {
   "cell_type": "code",
   "execution_count": null,
   "metadata": {},
   "outputs": [],
   "source": []
  },
  {
   "cell_type": "code",
   "execution_count": 34,
   "metadata": {},
   "outputs": [],
   "source": [
    "def listLocation(data):\n",
    "    locationslist = []\n",
    "    for i in range(len(data['response']['groups'][0]['items'])):\n",
    "        latitude = float((data['response']['groups'][0]['items'][i]['venue'].get('location')).get('latitude'))\n",
    "        longitude = float((data['response']['groups'][0]['items'][i]['venue'].get('location')).get('longitude'))\n",
    "        dicti = {\n",
    "            'name':(data['response']['groups'][0]['items'][i]['venue']).get('name'),\n",
    "            'loc':{'type':'Point','coordinates':[longitude,latitude]}            \n",
    "            }\n",
    "        locationslist.append(dicti)\n",
    "    return locationslist"
   ]
  },
  {
   "cell_type": "code",
   "execution_count": 35,
   "metadata": {},
   "outputs": [
    {
     "data": {
      "text/plain": [
       "{'meta': {'code': 400,\n",
       "  'errorType': 'invalid_auth',\n",
       "  'errorDetail': 'Missing access credentials. See https://developer.foursquare.com/docs/api/configuration/authentication for details.',\n",
       "  'requestId': '5dd502fc618f43001b6647e7'},\n",
       " 'response': {}}"
      ]
     },
     "execution_count": 35,
     "metadata": {},
     "output_type": "execute_result"
    }
   ],
   "source": [
    "requestfoursquare('categories:starbuks')\n",
    "\n"
   ]
  },
  {
   "cell_type": "code",
   "execution_count": 17,
   "metadata": {},
   "outputs": [
    {
     "ename": "NameError",
     "evalue": "name 'Collapse' is not defined",
     "output_type": "error",
     "traceback": [
      "\u001b[0;31m---------------------------------------------------------------------------\u001b[0m",
      "\u001b[0;31mNameError\u001b[0m                                 Traceback (most recent call last)",
      "\u001b[0;32m<ipython-input-17-cb5624bd2e87>\u001b[0m in \u001b[0;36m<module>\u001b[0;34m\u001b[0m\n\u001b[1;32m     20\u001b[0m \u001b[0mCLIENT_SECRET\u001b[0m \u001b[0;34m=\u001b[0m \u001b[0mos\u001b[0m\u001b[0;34m.\u001b[0m\u001b[0mgetenv\u001b[0m\u001b[0;34m(\u001b[0m\u001b[0;34m\"client_secret\"\u001b[0m\u001b[0;34m)\u001b[0m\u001b[0;34m\u001b[0m\u001b[0;34m\u001b[0m\u001b[0m\n\u001b[1;32m     21\u001b[0m \u001b[0mconect_api\u001b[0m\u001b[0;34m(\u001b[0m\u001b[0mCLIENT_ID\u001b[0m \u001b[0;34m,\u001b[0m\u001b[0mCLIENT_SECRET\u001b[0m\u001b[0;34m)\u001b[0m\u001b[0;34m\u001b[0m\u001b[0;34m\u001b[0m\u001b[0m\n\u001b[0;32m---> 22\u001b[0;31m \u001b[0mCollapse\u001b[0m\u001b[0;34m\u001b[0m\u001b[0;34m\u001b[0m\u001b[0m\n\u001b[0m\u001b[1;32m     23\u001b[0m \u001b[0;34m\u001b[0m\u001b[0m\n\u001b[1;32m     24\u001b[0m \u001b[0;34m\u001b[0m\u001b[0m\n",
      "\u001b[0;31mNameError\u001b[0m: name 'Collapse' is not defined"
     ]
    }
   ],
   "source": [
    "def conect_api (client_id, client_secret):\n",
    "    url='https://api.foursquare.com/v2/venues/explore'\n",
    "    PARAMETERS = dict(\n",
    "        client_id=CLIENT_ID,\n",
    "        client_secret=CLIENT_SECRET,\n",
    "        v='20191023',\n",
    "        # DONDE ESTOY\n",
    "        \n",
    "        ll='37.781265, -122.393229',\n",
    "        # QUE QUIERO\n",
    "        query='starbucks',\n",
    "        # A QUE DISTANCIA\n",
    "        radius=\"1000\"\n",
    "    ) \n",
    "    resp = requests.get (url= url, params=PARAMETERS)\n",
    "    data_starbucks= json.loads(resp.text)\n",
    "    return data_starbucks\n",
    "\n",
    "CLIENT_ID = os.getenv(\"client_id\")\n",
    "CLIENT_SECRET = os.getenv(\"client_secret\")\n",
    "conect_api(CLIENT_ID ,CLIENT_SECRET)\n",
    "Collapse\n",
    "\n",
    "\n",
    "\n"
   ]
  },
  {
   "cell_type": "code",
   "execution_count": 14,
   "metadata": {},
   "outputs": [
    {
     "ename": "NameError",
     "evalue": "name 'CLIENT_ID' is not defined",
     "output_type": "error",
     "traceback": [
      "\u001b[0;31m---------------------------------------------------------------------------\u001b[0m",
      "\u001b[0;31mNameError\u001b[0m                                 Traceback (most recent call last)",
      "\u001b[0;32m<ipython-input-14-00ed558fa3b5>\u001b[0m in \u001b[0;36m<module>\u001b[0;34m\u001b[0m\n\u001b[0;32m----> 1\u001b[0;31m \u001b[0mrequestfoursquare\u001b[0m\u001b[0;34m(\u001b[0m\u001b[0mCLIENT_ID\u001b[0m\u001b[0;34m,\u001b[0m \u001b[0mCLIENT_SECRET\u001b[0m\u001b[0;34m)\u001b[0m\u001b[0;34m\u001b[0m\u001b[0;34m\u001b[0m\u001b[0m\n\u001b[0m",
      "\u001b[0;31mNameError\u001b[0m: name 'CLIENT_ID' is not defined"
     ]
    }
   ],
   "source": [
    "requestfoursquare(CLIENT_ID, CLIENT_SECRET)"
   ]
  },
  {
   "cell_type": "code",
   "execution_count": null,
   "metadata": {},
   "outputs": [],
   "source": []
  }
 ],
 "metadata": {
  "kernelspec": {
   "display_name": "Python 3",
   "language": "python",
   "name": "python3"
  },
  "language_info": {
   "codemirror_mode": {
    "name": "ipython",
    "version": 3
   },
   "file_extension": ".py",
   "mimetype": "text/x-python",
   "name": "python",
   "nbconvert_exporter": "python",
   "pygments_lexer": "ipython3",
   "version": "3.6.8"
  }
 },
 "nbformat": 4,
 "nbformat_minor": 2
}
