{
 "cells": [
  {
   "cell_type": "code",
   "execution_count": 24,
   "metadata": {},
   "outputs": [
    {
     "data": {
      "text/plain": [
       "True"
      ]
     },
     "execution_count": 24,
     "metadata": {},
     "output_type": "execute_result"
    }
   ],
   "source": [
    "import json\n",
    "import requests\n",
    "import sys\n",
    "import os\n",
    "from dotenv import load_dotenv\n",
    "load_dotenv()"
   ]
  },
  {
   "cell_type": "code",
   "execution_count": 25,
   "metadata": {},
   "outputs": [],
   "source": [
    "#CLIENT_ID = '2RIV2S3AUAYLH4YEI1ES3G2OM5LPEVPOWVWQZJHW1V1BPDMC' # your Foursquare ID\n",
    "#CLIENT_SECRET = 'F5MGL1ZLIXUQL01M0XHV5PC4LVUAMI2RYOMMHOGDYWX0RRN' # your Foursquare Secret\n",
    "#VERSION = '20180604'\n",
    "#LIMIT = 100"
   ]
  },
  {
   "cell_type": "code",
   "execution_count": 26,
   "metadata": {},
   "outputs": [],
   "source": [
    "def requestfoursquare(query):\n",
    "    url = 'https://api.foursquare.com/v2/venues/explore'\n",
    "    params = dict(\n",
    "      client_id = os.getenv(\"CLIENT_ID\"),\n",
    "      client_secret = os.getenv(\"CLIENT_SECRET\"),\n",
    "      v='20180604',\n",
    "      ll='37.773972,-122.431297',\n",
    "      query=query,\n",
    "      limit=200\n",
    "    )\n",
    "    resp = requests.get(url=url, params=params)\n",
    "    print(resp)\n",
    "    data = json.loads(resp.text)\n",
    "    return data\n",
    "\n"
   ]
  },
  {
   "cell_type": "code",
   "execution_count": 27,
   "metadata": {},
   "outputs": [],
   "source": [
    "def listLocation(data):\n",
    "    locationslist = []\n",
    "    for i in range(len(data['response']['groups'][0]['items'])):\n",
    "        latitude = float((data['response']['groups'][0]['items'][i]['venue'].get('location')).get('lat'))\n",
    "        longitude = float((data['response']['groups'][0]['items'][i]['venue'].get('location')).get('lng'))\n",
    "        dictio = {\n",
    "            'name':(data['response']['groups'][0]['items'][i]['venue']).get('name'),\n",
    "            'loc':{'type':'Point','coordinates':[longitude,latitude]}            \n",
    "            }\n",
    "        locationslist.append(dictio)\n",
    "    return locationslist"
   ]
  },
  {
   "cell_type": "code",
   "execution_count": 28,
   "metadata": {},
   "outputs": [
    {
     "name": "stdout",
     "output_type": "stream",
     "text": [
      "<Response [400]>\n"
     ]
    },
    {
     "data": {
      "text/plain": [
       "{'meta': {'code': 400,\n",
       "  'errorType': 'invalid_auth',\n",
       "  'errorDetail': 'Missing access credentials. See https://developer.foursquare.com/docs/api/configuration/authentication for details.',\n",
       "  'requestId': '5dd43b9a47b43d0023ae4a95'},\n",
       " 'response': {}}"
      ]
     },
     "execution_count": 28,
     "metadata": {},
     "output_type": "execute_result"
    }
   ],
   "source": [
    "\n",
    "requestfoursquare('categories:starbucks')"
   ]
  },
  {
   "cell_type": "code",
   "execution_count": null,
   "metadata": {},
   "outputs": [],
   "source": []
  },
  {
   "cell_type": "code",
   "execution_count": null,
   "metadata": {},
   "outputs": [],
   "source": []
  }
 ],
 "metadata": {
  "kernelspec": {
   "display_name": "Python 3",
   "language": "python",
   "name": "python3"
  },
  "language_info": {
   "codemirror_mode": {
    "name": "ipython",
    "version": 3
   },
   "file_extension": ".py",
   "mimetype": "text/x-python",
   "name": "python",
   "nbconvert_exporter": "python",
   "pygments_lexer": "ipython3",
   "version": "3.6.8"
  }
 },
 "nbformat": 4,
 "nbformat_minor": 2
}
